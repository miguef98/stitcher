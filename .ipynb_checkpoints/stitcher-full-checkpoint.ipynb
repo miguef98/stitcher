{
 "cells": [
  {
   "cell_type": "markdown",
   "id": "7e8ea3d3",
   "metadata": {},
   "source": [
    "En este notebook armo el stitcher version full."
   ]
  },
  {
   "cell_type": "code",
   "execution_count": null,
   "id": "dc4e754f",
   "metadata": {},
   "outputs": [],
   "source": [
    "import matplotlib.pyplot as plt\n",
    "import numpy as np\n",
    "import cv2\n",
    "from imagen import Imagen\n",
    "\n",
    "plt.rcParams['figure.figsize'] = [20, 10] #modificar si queremos mayor tamano de las figuras"
   ]
  },
  {
   "cell_type": "code",
   "execution_count": null,
   "id": "f5895d4c",
   "metadata": {},
   "outputs": [],
   "source": [
    "def matchearImagenes(imagenA, imagenB, ratio, tolerancia, mascaras=None):\n",
    "    matcher = cv2.DescriptorMatcher_create(\"BruteForce\")\n",
    "    print(\"        comenzando matcheo\")\n",
    "    if mascaras is None:\n",
    "        rawMatches = matcher.knnMatch(imagenB.features, imagenA.features, 2)\n",
    "    else:\n",
    "        rawMatches = matcher.knnMatch(imagenB.getFeatures(mascaras[1]), imagenA.getFeatures(mascaras[0]), 2)\n",
    "    matches = []\n",
    "    \n",
    "    for m in rawMatches:\n",
    "        #  Lowe's ratio test\n",
    "        if len(m) == 2 and m[0].distance < m[1].distance * ratio:\n",
    "            matches.append((m[0].trainIdx, m[0].queryIdx))\n",
    "    \n",
    "    print(\"            hubo \", len(matches), \" matcheos\")\n",
    "    if len(matches) > 4:\n",
    "        ptsA = np.float32([imagenA.keypoints[i] for (i, _) in matches])\n",
    "        ptsB = np.float32([imagenB.keypoints[i] for (_, i) in matches])\n",
    "        (H, inliners) = cv2.findHomography( ptsB, ptsA, cv2.RANSAC, tolerancia)\n",
    "\n",
    "        if H is None:\n",
    "            raise Exception(\"No hubo suficientes coincidencias entre las caracteristicas de las imagenes\")\n",
    "        return (matches, H, inliners)\n",
    "    else:\n",
    "        raise Exception(\"No hubo suficientes coincidencias entre las caracteristicas de las imagenes\")\n",
    "        \n",
    "def stitchPar(imagenA, imagenB, ratio, tolerancia, matchHisto, mascaras=None, limite=None):\n",
    "    (matches, H, inliners) = matchearImagenes(imagenA, imagenB, ratio, tolerancia, mascaras)\n",
    "    \n",
    "    imagenB.transformar(H, limite)\n",
    "    imagenA.mover(int(np.abs(np.clip(np.min([esquina[0] for esquina in imagenB.esquinas]), None, 0))),\n",
    "                  int(np.abs(np.clip(np.min([esquina[1] for esquina in imagenB.esquinas]), None, 0))))\n",
    "    \n",
    "    # matcheamos histogramas\n",
    "    if matchHisto:\n",
    "        imagenB.matchearHistogramasSinMascaras( imagenA )\n",
    "\n",
    "    smallestX = np.min([imagenB.posicion[0], imagenA.posicion[0]])\n",
    "    biggestX = np.max([imagenB.posicion[0] + imagenB.shape[1],\n",
    "                      imagenA.posicion[0] + imagenA.shape[1]])\n",
    "    smallestY = np.min([imagenB.posicion[1], imagenA.posicion[1]])\n",
    "    biggestY = np.max([imagenB.posicion[1] + imagenB.shape[0],\n",
    "                      imagenA.posicion[1] + imagenA.shape[0]])\n",
    "\n",
    "    resultShape = (\n",
    "        int(np.floor(biggestY - smallestY)),\n",
    "        int(np.floor(biggestX - smallestX)),\n",
    "        3\n",
    "    )\n",
    "    result = Imagen(np.zeros(resultShape, np.uint8), imagenA.descriptor, np.zeros(resultShape[0:2], np.uint8) )\n",
    "\n",
    "    result.pegar(imagenA)\n",
    "    result.pegar(imagenB)\n",
    "\n",
    "    return result\n",
    "\n",
    "def stitch( imagenes, grilla , orden, matchHisto=True ):\n",
    "    indice = 0\n",
    "    panorama = None\n",
    "    print(\"comenzando pegando...\")\n",
    "    for fila in range(grilla[0]):\n",
    "        imagenFila = imagenes[orden[indice] - 1]\n",
    "        for col in range(grilla[1] - 1):\n",
    "            print(\"    ->par \", indice)\n",
    "            imagenFila = stitchPar( imagenFila, imagenes[orden[indice + 1] - 1], ratio, tolerancia, matchHisto=matchHisto )\n",
    "            indice += 1\n",
    "        indice += 1\n",
    "        panorama = imagenFila if panorama is None else stitchPar( panorama, imagenFila, ratio, tolerancia)\n",
    "\n",
    "    return panorama.imagen"
   ]
  },
  {
   "cell_type": "code",
   "execution_count": null,
   "id": "e8ea7721",
   "metadata": {},
   "outputs": [],
   "source": [
    "descriptor = cv2.xfeatures2d.SURF_create()\n",
    "grilla = (1,2)\n",
    "orden = [1,2]\n",
    "\n",
    "ratio = 0.75\n",
    "tolerancia = 4\n",
    "\n",
    "# leemos las imagenes\n",
    "imagenes = [ Imagen( cv2.imread('Imagenes/Intestino curso/01.tif'), descriptor ),\n",
    "             Imagen( cv2.imread('Imagenes/Intestino curso/02.tif'), descriptor )]\n",
    "\n",
    "resultadoMatcheando = stitch(imagenes, grilla, orden)"
   ]
  },
  {
   "cell_type": "code",
   "execution_count": null,
   "id": "cc0ecf34",
   "metadata": {},
   "outputs": [],
   "source": [
    "plt.imshow(resultadoMatcheando[...,::-1])"
   ]
  },
  {
   "cell_type": "code",
   "execution_count": null,
   "id": "3994a4a7",
   "metadata": {},
   "outputs": [],
   "source": [
    "imagenes = [ Imagen( cv2.imread('Imagenes/Intestino curso/01.tif'), descriptor ),\n",
    "             Imagen( cv2.imread('Imagenes/Intestino curso/02.tif'), descriptor )]\n",
    "\n",
    "resultadoSinMatchear = stitch(imagenes, grilla, orden, matchHisto=False)\n",
    "plt.imshow(resultadoSinMatchear[...,::-1])"
   ]
  }
 ],
 "metadata": {
  "kernelspec": {
   "display_name": "Python 3.9.5 64-bit",
   "language": "python",
   "name": "python395jvsc74a57bd0916dbcbb3f70747c44a77c7bcd40155683ae19c65e1c03b4aa3499c5328201f1"
  },
  "language_info": {
   "codemirror_mode": {
    "name": "ipython",
    "version": 3
   },
   "file_extension": ".py",
   "mimetype": "text/x-python",
   "name": "python",
   "nbconvert_exporter": "python",
   "pygments_lexer": "ipython3",
   "version": "3.9.5"
  }
 },
 "nbformat": 4,
 "nbformat_minor": 5
}
