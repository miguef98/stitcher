{
 "cells": [
  {
   "cell_type": "markdown",
   "id": "50d31693",
   "metadata": {},
   "source": [
    "# Primera versión y analisis del pipeline"
   ]
  },
  {
   "cell_type": "code",
   "execution_count": null,
   "id": "1c938ea0",
   "metadata": {},
   "outputs": [],
   "source": [
    "import numpy as np\n",
    "import cv2\n",
    "import matplotlib.pyplot as plt\n",
    "\n",
    "plt.rcParams['figure.figsize'] = [10, 7]"
   ]
  },
  {
   "cell_type": "code",
   "execution_count": null,
   "id": "b5a8a1f1",
   "metadata": {},
   "outputs": [],
   "source": [
    "# leemos las imagenes\n",
    "imagenes = [ cv2.imread('Imagenes/Intestino curso/02.tif'),\n",
    "           cv2.imread('Imagenes/Intestino curso/03.tif')]"
   ]
  },
  {
   "cell_type": "code",
   "execution_count": null,
   "id": "4795c46c",
   "metadata": {},
   "outputs": [],
   "source": [
    "plt.axis('off')\n",
    "plt.imshow(imagenes[0])"
   ]
  },
  {
   "cell_type": "code",
   "execution_count": null,
   "id": "958e7e41",
   "metadata": {},
   "outputs": [],
   "source": [
    "plt.axis('off')\n",
    "plt.imshow(imagenes[1])"
   ]
  },
  {
   "cell_type": "code",
   "execution_count": null,
   "id": "0c787ceb",
   "metadata": {},
   "outputs": [],
   "source": [
    "# elegimos un descriptor\n",
    "# alternativamente cv2.xfeatures2d.SURF_create()\n",
    "descriptor = cv2.SIFT_create()\n",
    "\n",
    "# caracterizamos las imagenes\n",
    "keypoints = []\n",
    "features = []\n",
    "for imagen in imagenes:\n",
    "    # paso opcional... pasar imagen a blanco y negro\n",
    "    # en fotografias normales se suele hacer\n",
    "    gray = cv2.cvtColor(imagen, cv2.COLOR_BGR2GRAY)\n",
    "    \n",
    "    # aca opcionalmente podriamos agregar la mascara marcando el borde donde se encuentra\n",
    "    # la superposicion con la otra imagen\n",
    "    (kps, feat) = descriptor.detectAndCompute(gray, mask=None)\n",
    "    keypoints.append(kps)\n",
    "    features.append(feat)"
   ]
  },
  {
   "cell_type": "code",
   "execution_count": null,
   "id": "8837f60a",
   "metadata": {},
   "outputs": [],
   "source": [
    "# elegimos un ratio arbitrario para test de Lowe\n",
    "ratio = 0.75"
   ]
  },
  {
   "cell_type": "code",
   "execution_count": null,
   "id": "2f05b0a5",
   "metadata": {},
   "outputs": [],
   "source": [
    "# para matchear entre los features utilizamos kNN para obtener los dos\n",
    "# features mas parecidos\n",
    "matcher = cv2.DescriptorMatcher_create(\"BruteForce\")\n",
    "rawMatches = matcher.knnMatch(features[0],\n",
    "                              features[1],\n",
    "                              2)\n",
    "\n",
    "# aplicamos es test de Lowe para determinar que macheos son buenos\n",
    "matches = []\n",
    "for (m1, m2) in rawMatches:\n",
    "    #  Lowe's ratio test\n",
    "    if m1.distance < m2.distance * ratio:\n",
    "        matches.append((m1.trainIdx, m1.queryIdx))"
   ]
  },
  {
   "cell_type": "markdown",
   "id": "a74c0f02",
   "metadata": {},
   "source": [
    "Ya tenemos los macheos, en la celda de abajo los podemos plotear"
   ]
  },
  {
   "cell_type": "code",
   "execution_count": null,
   "id": "f8795c7d",
   "metadata": {},
   "outputs": [],
   "source": [
    "\n",
    "matchesMask = [[0,0] for i in range(len(rawMatches))]\n",
    "imagen1Matcheos = imagenes[0].copy()\n",
    "imagen2Matcheos = imagenes[1].copy()\n",
    "for i, (m1,m2) in enumerate(rawMatches):\n",
    "    if m1.distance < ratio * m2.distance:\n",
    "        matchesMask[i] = [1,0]\n",
    "        pt1 = keypoints[0][m1.queryIdx].pt\n",
    "        pt2 = keypoints[1][m1.trainIdx].pt\n",
    "        cv2.circle(imagen1Matcheos, (int(pt1[0]),int(pt1[1])), 10, (255,0,255), -1)\n",
    "        cv2.circle(imagen2Matcheos, (int(pt2[0]),int(pt2[1])), 10, (255,0,255), -1)\n",
    "\n",
    "\n",
    "## Draw match in blue, error in red\n",
    "draw_params = dict(matchColor = (255, 0,0),\n",
    "                   singlePointColor = (0,0,255),\n",
    "                   matchesMask = matchesMask,\n",
    "                   flags = 0)\n",
    "\n",
    "res = cv2.drawMatchesKnn(imagen1Matcheos,\n",
    "                         keypoints[0],\n",
    "                         imagen2Matcheos,\n",
    "                         keypoints[1],\n",
    "                         rawMatches,\n",
    "                         None,\n",
    "                         **draw_params)\n",
    "\n",
    "plt.rcParams['figure.figsize'] = [20, 15]\n",
    "plt.imshow(res)"
   ]
  },
  {
   "cell_type": "markdown",
   "id": "eb4a4152",
   "metadata": {},
   "source": [
    "Podemos ver que hay muchos features en cada imagen (puntos azules chicos), y los macheos no son tantos, con la gran mayoria en el borde que queremos. Igual se puede ver que hay varios falsos positivos. Esperamos que estos sean descartados como outliers cuando busquemos matriz homográfica."
   ]
  },
  {
   "cell_type": "code",
   "execution_count": null,
   "id": "5f1e433c",
   "metadata": {},
   "outputs": [],
   "source": [
    "toleranciaRansac = 4"
   ]
  },
  {
   "cell_type": "code",
   "execution_count": null,
   "id": "9747564d",
   "metadata": {},
   "outputs": [],
   "source": [
    "# calculamos matriz homográfica\n",
    "# para ello necesitamos al menos 4 macheos, ya que \n",
    "# el algoritmo la computa resolviendo un sistema de ecuaciones\n",
    "\n",
    "keypointsAFloat = [np.float32([kp.pt for kp in kps]) for kps in keypoints]\n",
    "\n",
    "if len(matches) > 4:\n",
    "    ptsA = np.float32([keypointsAFloat[0][i] for (_, i) in matches])\n",
    "    ptsB = np.float32([keypointsAFloat[1][i] for (i, _) in matches])\n",
    "    (H, inliners) = cv2.findHomography(\n",
    "        ptsB, ptsA, cv2.RANSAC, toleranciaRansac)\n",
    "else:\n",
    "    print(\"No hubo suficientes coincidencias entre las caracteristicas de las imagenes\")"
   ]
  },
  {
   "cell_type": "markdown",
   "id": "f71a2dd9",
   "metadata": {},
   "source": [
    "Visualizamos en la proxima celda los inliners que quedaron contemplados por la matriz homografica."
   ]
  },
  {
   "cell_type": "code",
   "execution_count": null,
   "id": "bb68a629",
   "metadata": {},
   "outputs": [],
   "source": [
    "matchesMask = [[0,0] for i in range(len(rawMatches))]\n",
    "imagen1Matcheos = imagenes[0].copy()\n",
    "imagen2Matcheos = imagenes[1].copy()\n",
    "j = 0\n",
    "for i, (m1,m2) in enumerate(rawMatches):\n",
    "    if m1.distance < ratio * m2.distance:\n",
    "        if inliners[j] == 1:\n",
    "            matchesMask[i] = [1,0]\n",
    "        pt1 = keypoints[0][m1.queryIdx].pt\n",
    "        pt2 = keypoints[1][m1.trainIdx].pt\n",
    "        cv2.circle(imagen1Matcheos, (int(pt1[0]),int(pt1[1])), 10, (255,0,255), -1)\n",
    "        cv2.circle(imagen2Matcheos, (int(pt2[0]),int(pt2[1])), 10, (255,0,255), -1)\n",
    "        j+=1\n",
    "\n",
    "\n",
    "## Draw match in blue, error in red\n",
    "draw_params = dict(matchColor = (255, 0,0),\n",
    "                   singlePointColor = (0,0,255),\n",
    "                   matchesMask = matchesMask,\n",
    "                   flags = 0)\n",
    "\n",
    "res = cv2.drawMatchesKnn(imagen1Matcheos,\n",
    "                         keypoints[0],\n",
    "                         imagen2Matcheos,\n",
    "                         keypoints[1],\n",
    "                         rawMatches,\n",
    "                         None,\n",
    "                         **draw_params)\n",
    "\n",
    "plt.imshow(res)"
   ]
  },
  {
   "cell_type": "markdown",
   "id": "a040d52a",
   "metadata": {},
   "source": [
    "Se puede ver que si cambiamos la tolerancia del Ransac cambia la cantidad de inliners."
   ]
  },
  {
   "cell_type": "code",
   "execution_count": null,
   "id": "392e7843",
   "metadata": {},
   "outputs": [],
   "source": [
    "hasta = 30\n",
    "ys = []\n",
    "for tolerancia in np.arange(0,hasta,1):\n",
    "    (H, inliners) = cv2.findHomography(\n",
    "        ptsB, ptsA, cv2.RANSAC, tolerancia, )\n",
    "    ys.append(sum(inliners))\n",
    "\n",
    "plt.rcParams['figure.figsize'] = [10, 7]\n",
    "plt.figure(0)\n",
    "plt.plot(np.arange(0,hasta,1), ys, marker='o', color='blue', label=\"inliners\")\n",
    "plt.plot([-10,hasta+10], [len(matches), len(matches)], color='red', alpha=0.7,linestyle='--', label=\"cant. matches\")\n",
    "plt.ylabel(\"Cant. inliners\")\n",
    "plt.ylim([0, len(matches)+10])\n",
    "plt.xlim([-0.9, hasta])\n",
    "plt.xlabel(\"Tolerancia\")\n",
    "plt.legend()\n",
    "plt.show()\n"
   ]
  },
  {
   "cell_type": "markdown",
   "id": "f1c838c2",
   "metadata": {},
   "source": [
    "Ahora que tenemos la matriz homografica podemos realizar el pegado. El pegado más básico, warpea la segunda imagen en base a la transformación que encontramos, y pega la primer imagen tal como vino."
   ]
  },
  {
   "cell_type": "code",
   "execution_count": null,
   "id": "cc05113f",
   "metadata": {},
   "outputs": [],
   "source": [
    "result = cv2.warpPerspective(imagenes[1], H,\n",
    "      (imagenes[1].shape[1] + imagenes[0].shape[1], imagenes[1].shape[0]))\n",
    "result[0:imagenes[0].shape[0], 0:imagenes[0].shape[1]] = imagenes[0]\n",
    "plt.rcParams['figure.figsize'] = [20, 15]\n",
    "plt.imshow(result)"
   ]
  },
  {
   "cell_type": "markdown",
   "id": "4e0a3cf3",
   "metadata": {},
   "source": [
    "# Segunda version un poco más robusta"
   ]
  },
  {
   "cell_type": "markdown",
   "id": "4d4edd23",
   "metadata": {},
   "source": [
    "Comienzo definiendo una clase para las imagenes, para poder abstraer un poco el proceso de pegado, descripción y transformación de las mismas. El pipeline del stitch sigue siendo el mismo igual.\n",
    "Por otro lado el proceso de pegado es más general y se banca pegar una imagen arriba de la otra, o en orden invertido."
   ]
  },
  {
   "cell_type": "code",
   "execution_count": null,
   "id": "41ba60e5",
   "metadata": {},
   "outputs": [],
   "source": [
    "class Imagen:\n",
    "    def __init__(self, image, descriptor, canalAlpha=True, alpha=255):\n",
    "        self.imagen = image\n",
    "        if canalAlpha:\n",
    "            self.agregarCanalAlpha(alpha)\n",
    "\n",
    "        self._keypoints = None\n",
    "        self._features = None\n",
    "        self._posicion = (0, 0)\n",
    "        self._esquinas = np.array([\n",
    "            [0, 0, 1],\n",
    "            [self.imagen.shape[1], 0, 1],\n",
    "            [0, self.imagen.shape[0], 1],\n",
    "            [self.imagen.shape[1], self.imagen.shape[0], 1]\n",
    "        ])\n",
    "\n",
    "        self.descriptor = descriptor\n",
    "        self._descripta = False\n",
    "\n",
    "    @property\n",
    "    def keypoints(self):\n",
    "        if self._descripta:\n",
    "            return np.float32([kp.pt for kp in self._keypoints])\n",
    "        else:\n",
    "            self.detectarYDescribir(None)\n",
    "            return np.float32([kp.pt for kp in self._keypoints])\n",
    "\n",
    "    @property\n",
    "    def features(self):\n",
    "        if self._descripta:\n",
    "            return self._features\n",
    "        else:\n",
    "            self.detectarYDescribir(None)\n",
    "            return self._features\n",
    "    \n",
    "    def getKeypoints(self, mascara=None):\n",
    "        self.detectarYDescribir( mascara )\n",
    "        return np.float32([kp.pt for kp in self._keypoints])\n",
    "\n",
    "    def getFeatures(self, mascara=None):\n",
    "        self.detectarYDescribir( mascara )\n",
    "        return self._features\n",
    "\n",
    "    @property\n",
    "    def esquinas(self):\n",
    "        return np.round(self._esquinas[:, 0:2])\n",
    "\n",
    "    @property\n",
    "    def posicion(self):\n",
    "        return self._posicion\n",
    "\n",
    "    @property\n",
    "    def shape(self):\n",
    "        return self.imagen.shape\n",
    "\n",
    "    def detectarYDescribir(self, mascara):\n",
    "        gray = cv2.cvtColor(self.imagen, cv2.COLOR_BGR2GRAY)\n",
    "        \n",
    "        (kps, features) = self.descriptor.detectAndCompute(gray, mask=mascara)\n",
    "\n",
    "        self._keypoints = kps\n",
    "        self._features = features\n",
    "        self._descripta = True\n",
    "\n",
    "    def transformar(self, matrizHomografica, limite=None):\n",
    "        esquinasViejas = self._esquinas\n",
    "        self._esquinas = (np.dot(matrizHomografica, self._esquinas.T)).T\n",
    "        self._esquinas = np.array([ esquina / esquina[2] for esquina in self._esquinas ])\n",
    "\n",
    "        smallestX = np.min([esquina[0] for esquina in self._esquinas])\n",
    "        biggestX = np.max([esquina[0] for esquina in self._esquinas])\n",
    "        smallestY = np.min([esquina[1] for esquina in self._esquinas])\n",
    "        biggestY = np.max([esquina[1] for esquina in self._esquinas])\n",
    "\n",
    "        nuevaShape = (\n",
    "            int(np.floor(biggestY - smallestY)),\n",
    "            int(np.floor(biggestX - smallestX))\n",
    "        )\n",
    "    \n",
    "        # hay veces que las transformaciones son cualquier cosa, y arman imagenes enormes, todo crashea, un caos.\n",
    "        # sabemos que las imagenes son mas o menos homogeneas, y que el tamano despues de la transformacion\n",
    "        # no puede exceder cierto limite. aca lo chequeo y levanto una excepcion\n",
    "        if not limite is None and (limite * self.shape[0] < nuevaShape[0] or limite * self.shape[1] < nuevaShape[1]):\n",
    "            self._esquinas = esquinasViejas\n",
    "            raise Exception(\"La transformacion excede limite de tamano\")\n",
    "\n",
    "        # corrijo para que quede en 0,0\n",
    "        traslacion = np.array([\n",
    "            [1, 0, -smallestX],\n",
    "            [0, 1, -smallestY],\n",
    "            [0, 0, 1]\n",
    "        ])\n",
    "        nuevaHomografica = np.matmul(traslacion, matrizHomografica)\n",
    "\n",
    "        self.imagen = cv2.warpPerspective(self.imagen, nuevaHomografica, (\n",
    "            nuevaShape[1], nuevaShape[0]), borderMode=cv2.BORDER_CONSTANT, borderValue=(125, 125, 125, 0))\n",
    "\n",
    "        self._posicion = [0 if smallestX < 0 else int(\n",
    "            np.round(smallestX)), 0 if smallestY < 0 else int(np.round(smallestY))]\n",
    "\n",
    "        self._describida = False\n",
    "\n",
    "    def mover(self, x, y):\n",
    "        self._posicion = (x, y)\n",
    "\n",
    "    def agregarCanalAlpha(self, value):\n",
    "        if self.imagen.shape[2] < 4:\n",
    "            b_channel, g_channel, r_channel = cv2.split(self.imagen)\n",
    "            alpha_channel = np.ones(\n",
    "                b_channel.shape, dtype=b_channel.dtype) * value\n",
    "            self.imagen = cv2.merge(\n",
    "                (b_channel, g_channel, r_channel, alpha_channel))\n",
    "\n",
    "    def pegar(self, imagenAPegar):\n",
    "        if imagenAPegar.posicion[0] > self.imagen.shape[1] or imagenAPegar.posicion[1] > self.imagen.shape[0]:\n",
    "            return\n",
    "\n",
    "        else:\n",
    "            h, w = imagenAPegar.shape[0], imagenAPegar.shape[1]\n",
    "            (x, y) = imagenAPegar.posicion\n",
    "            if x+w > self.imagen.shape[1] or y+h > self.imagen.shape[0]:\n",
    "                raise Exception(\"La imagen a pegar supera el tamaño del fondo\")\n",
    "\n",
    "            overlay_image = imagenAPegar.imagen\n",
    "            mask = imagenAPegar.imagen[..., 3:] / 255.0\n",
    "            self.imagen[y:y+h, x:x+w] = (1.0 - mask) * \\\n",
    "                self.imagen[y:y+h, x:x+w] + mask * overlay_image"
   ]
  },
  {
   "cell_type": "markdown",
   "id": "1faf19b1",
   "metadata": {},
   "source": [
    "Entonces así nos quedaría el pipeline para pegar dos imagenes de nuestra clase:"
   ]
  },
  {
   "cell_type": "code",
   "execution_count": null,
   "id": "30fa6b32",
   "metadata": {},
   "outputs": [],
   "source": [
    "# esta funcion matchea entre los features de dos imagenes y calcula la matriz homografica\n",
    "def matchearImagenes(imagenA, imagenB, ratio, tolerancia):\n",
    "    matcher = cv2.DescriptorMatcher_create(\"BruteForce\")\n",
    "    rawMatches = matcher.knnMatch(imagenB.features, imagenA.features, 2)\n",
    "    matches = []\n",
    "\n",
    "    for m in rawMatches:\n",
    "        #  Lowe's ratio test\n",
    "        if len(m) == 2 and m[0].distance < m[1].distance * ratio:\n",
    "            matches.append((m[0].trainIdx, m[0].queryIdx))\n",
    "\n",
    "    if len(matches) > 4:\n",
    "        ptsA = np.float32([imagenA.keypoints[i] for (i, _) in matches])\n",
    "        ptsB = np.float32([imagenB.keypoints[i] for (_, i) in matches])\n",
    "        (H, inliners) = cv2.findHomography( ptsB, ptsA, cv2.RANSAC, tolerancia)\n",
    "\n",
    "        if H is None:\n",
    "            raise Exception(\"No hubo suficientes coincidencias entre las caracteristicas de las imagenes\")\n",
    "        return (matches, H, inliners)\n",
    "    else:\n",
    "        raise Exception(\"No hubo suficientes coincidencias entre las caracteristicas de las imagenes\")"
   ]
  },
  {
   "cell_type": "markdown",
   "id": "32c5f111",
   "metadata": {},
   "source": [
    "Esta funcion realiza todo el pipeline para un par de imagenes. La logica agregada, lo unico que hace es croppear la imagen resultado para quedarnos solo con la zona de interes, es decir el min rectangulo que contemple ambas imagenes. Otra cosa es la decision de pegar la imagen B (la transformada) sobre la imagen A. Esto se puede hacer al revez, es lo mismo."
   ]
  },
  {
   "cell_type": "code",
   "execution_count": null,
   "id": "1e922d5c",
   "metadata": {},
   "outputs": [],
   "source": [
    "def stitchPar(imagenA, imagenB, ratio, tolerancia):\n",
    "    (matches, H, inliners) = matchearImagenes(imagenA, imagenB, ratio, tolerancia)\n",
    "    imagenB.transformar(H)\n",
    "\n",
    "    imagenA.mover(int(np.abs(np.clip(np.min([esquina[0] for esquina in imagenB.esquinas]), None, 0))),\n",
    "                  int(np.abs(np.clip(np.min([esquina[1] for esquina in imagenB.esquinas]), None, 0))))\n",
    "\n",
    "    smallestX = np.min([imagenB.posicion[0], imagenA.posicion[0]])\n",
    "    biggestX = np.max([imagenB.posicion[0] + imagenB.shape[1],\n",
    "                      imagenA.posicion[0] + imagenA.shape[1]])\n",
    "    smallestY = np.min([imagenB.posicion[1], imagenA.posicion[1]])\n",
    "    biggestY = np.max([imagenB.posicion[1] + imagenB.shape[0],\n",
    "                      imagenA.posicion[1] + imagenA.shape[0]])\n",
    "\n",
    "    resultShape = (\n",
    "        int(np.floor(biggestY - smallestY)),\n",
    "        int(np.floor(biggestX - smallestX)),\n",
    "        4\n",
    "    )\n",
    "    result = Imagen(np.zeros(resultShape, np.uint8), imagenA.descriptor )\n",
    "\n",
    "    result.pegar(imagenA)\n",
    "    result.pegar(imagenB)\n",
    "\n",
    "    return result"
   ]
  },
  {
   "cell_type": "markdown",
   "id": "d4373a87",
   "metadata": {},
   "source": [
    "De esta forma, para pegar muchas imagenes (primero por columnas y luego por filas) es relativamente sencillo"
   ]
  },
  {
   "cell_type": "code",
   "execution_count": null,
   "id": "b45237c8",
   "metadata": {},
   "outputs": [],
   "source": [
    "def stitch( imagenes, grilla , orden ):\n",
    "    indice = 0\n",
    "    panorama = None\n",
    "    for fila in range(grilla[0]):\n",
    "        imagenFila = imagenes[orden[indice] - 1]\n",
    "        for col in range(grilla[1] - 1):\n",
    "            imagenFila = stitchPar( imagenFila, imagenes[orden[indice + 1] - 1], ratio, tolerancia )\n",
    "            indice += 1\n",
    "        indice += 1\n",
    "        panorama = imagenFila if panorama is None else stitchPar( panorama, imagenFila, ratio, tolerancia)\n",
    "\n",
    "    return panorama.imagen"
   ]
  },
  {
   "cell_type": "code",
   "execution_count": null,
   "id": "ad25e545",
   "metadata": {},
   "outputs": [],
   "source": [
    "descriptor = cv2.SIFT_create()\n",
    "grilla = (1,3)\n",
    "orden = [1,2,3]\n",
    "\n",
    "# leemos las imagenes\n",
    "imagenes = [ Imagen( cv2.imread('Imagenes/Intestino curso/01.tif'), descriptor ),\n",
    "             Imagen( cv2.imread('Imagenes/Intestino curso/02.tif'), descriptor ),\n",
    "             Imagen( cv2.imread('Imagenes/Intestino curso/03.tif'), descriptor )]\n",
    "\n",
    "plt.imshow(stitch(imagenes, grilla, orden))"
   ]
  },
  {
   "cell_type": "markdown",
   "id": "f50e29e3",
   "metadata": {},
   "source": [
    "# Ejemplos que NO andan :|"
   ]
  },
  {
   "cell_type": "markdown",
   "id": "7caa810b",
   "metadata": {},
   "source": [
    "Con tres imagenes andaba regio.. pero cuando queremos pegar la 4ta, explota porque no encuentra suficientes matcheos."
   ]
  },
  {
   "cell_type": "code",
   "execution_count": null,
   "id": "cc5bfb54",
   "metadata": {},
   "outputs": [],
   "source": [
    "descriptor = cv2.SIFT_create()\n",
    "grilla = (1,4)\n",
    "orden = [1,2,3,4]\n",
    "\n",
    "# leemos las imagenes\n",
    "imagenes = [ Imagen( cv2.imread('Imagenes/Intestino curso/01.tif'), descriptor ),\n",
    "             Imagen( cv2.imread('Imagenes/Intestino curso/02.tif'), descriptor ),\n",
    "             Imagen( cv2.imread('Imagenes/Intestino curso/03.tif'), descriptor ),\n",
    "             Imagen( cv2.imread('Imagenes/Intestino curso/04.tif'), descriptor )]\n",
    "\n",
    "plt.imshow(stitch(imagenes, grilla, orden))"
   ]
  },
  {
   "cell_type": "markdown",
   "id": "4cfc0477",
   "metadata": {},
   "source": [
    "Las imagenes son estas:"
   ]
  },
  {
   "cell_type": "code",
   "execution_count": null,
   "id": "7a5d44d0",
   "metadata": {},
   "outputs": [],
   "source": [
    "descriptor = cv2.SIFT_create()\n",
    "descriptor = cv2.xfeatures2d.SURF_create()\n",
    "imagenA = Imagen(cv2.imread('Imagenes/Intestino curso/03.tif'), descriptor)\n",
    "imagenB = Imagen(cv2.imread('Imagenes/Intestino curso/04.tif'), descriptor)"
   ]
  },
  {
   "cell_type": "code",
   "execution_count": null,
   "id": "97f863ce",
   "metadata": {},
   "outputs": [],
   "source": [
    "plt.rcParams['figure.figsize'] = [10, 7]\n",
    "plt.imshow(imagenA.imagen)"
   ]
  },
  {
   "cell_type": "code",
   "execution_count": null,
   "id": "d3fc5ff2",
   "metadata": {},
   "outputs": [],
   "source": [
    "plt.imshow(imagenB.imagen)"
   ]
  },
  {
   "cell_type": "markdown",
   "id": "304b1fff",
   "metadata": {},
   "source": [
    "Los matcheos:"
   ]
  },
  {
   "cell_type": "code",
   "execution_count": null,
   "id": "37d4e2fc",
   "metadata": {},
   "outputs": [],
   "source": [
    "matcher = cv2.DescriptorMatcher_create(\"BruteForce\")\n",
    "rawMatches = matcher.knnMatch(imagenA.features,\n",
    "                              imagenB.features,\n",
    "                              2)\n",
    "\n",
    "matchesMask = [[0,0] for i in range(len(rawMatches))]\n",
    "imagen1Matcheos = imagenA.imagen.copy()\n",
    "imagen2Matcheos = imagenB.imagen.copy()\n",
    "cantidadMatcheos = 0\n",
    "for i, (m1,m2) in enumerate(rawMatches):\n",
    "    if m1.distance < ratio * m2.distance:\n",
    "        cantidadMatcheos += 1\n",
    "        matchesMask[i] = [1,0]\n",
    "        pt1 = imagenA.keypoints[m1.queryIdx]\n",
    "        pt2 = imagenB.keypoints[m1.trainIdx]\n",
    "        cv2.circle(imagen1Matcheos, (int(pt1[0]),int(pt1[1])), 10, (255,0,255), -1)\n",
    "        cv2.circle(imagen2Matcheos, (int(pt2[0]),int(pt2[1])), 10, (255,0,255), -1)\n",
    "\n",
    "\n",
    "## Draw match in blue, error in red\n",
    "draw_params = dict(matchColor = (255, 0,0),\n",
    "                   singlePointColor = (0,0,255),\n",
    "                   matchesMask = matchesMask,\n",
    "                   flags = 0)\n",
    "\n",
    "res = cv2.drawMatchesKnn(imagen1Matcheos,\n",
    "                         imagenA._keypoints,\n",
    "                         imagen2Matcheos,\n",
    "                         imagenB._keypoints,\n",
    "                         rawMatches,\n",
    "                         None,\n",
    "                         **draw_params)\n",
    "\n",
    "plt.rcParams['figure.figsize'] = [20, 15]\n",
    "plt.imshow(res)\n",
    "print(\"Cantidad de matcheos: \", cantidadMatcheos)"
   ]
  },
  {
   "cell_type": "markdown",
   "id": "52fbe3d0",
   "metadata": {},
   "source": [
    "En este plot queda bien claro que la mayoria de los matcheos son falsos positivos. Además de los pocos que son.\n",
    "\n",
    "Si volvemos a correr la celda donde elegimos el descriptor y lo cambiamos por SURF, tenemos muchisimos más matcheos. Sin embargo la cantidad de falsos positivos siguen siendo muy altos.\n",
    "\n",
    "Un problema muy evidente es que está matcheando features en lugares donde sabemos de antemano que no hay superposición. Deberíamos agregar mascaras a la hora de realizar el matcheo."
   ]
  },
  {
   "cell_type": "markdown",
   "id": "7750f4d0",
   "metadata": {},
   "source": [
    "Definimos una función para crear mascaras"
   ]
  },
  {
   "cell_type": "code",
   "execution_count": null,
   "id": "885cf01e",
   "metadata": {},
   "outputs": [],
   "source": [
    "# eje marca si de izq a der o arriba a abajo\n",
    "# orden si a izq o a der (o arr o abajo)\n",
    "def crearMascara( shape, proporcion, eje=0, orden=0 ):\n",
    "    if eje == 0:\n",
    "        anchoMascara = int( shape[1] * proporcion )\n",
    "        izq = np.zeros( (shape[0],shape[1] - anchoMascara, 1), dtype=np.uint8 )\n",
    "        der = np.ones( (shape[0], anchoMascara, 1), dtype=np.int8 ) * 255\n",
    "        return np.hstack( (izq,der) ).astype(np.uint8) if orden == 0 else np.hstack( (der,izq) ).astype(np.uint8)\n",
    "    else:\n",
    "        altoMascara = int( shape[0] * proporcion )\n",
    "        arr = np.zeros( (shape[0] - altoMascara, shape[1], 1), dtype=np.uint8 )\n",
    "        aba = np.ones( (altoMascara, shape[1], 1), dtype=np.int8 ) * 255\n",
    "        return np.vstack( (arr,aba) ).astype(np.uint8) if orden == 0 else np.vstack( (aba,arr) ).astype(np.uint8)\n"
   ]
  },
  {
   "cell_type": "code",
   "execution_count": null,
   "id": "16a69165",
   "metadata": {},
   "outputs": [],
   "source": [
    "def dibujarMatcheos( imagenA, imagenB, mascaras ):\n",
    "    matcher = cv2.DescriptorMatcher_create(\"BruteForce\")\n",
    "    rawMatches = matcher.knnMatch(imagenA.getFeatures( mascaras[0] ),\n",
    "                                  imagenB.getFeatures( mascaras[1] ),\n",
    "                                  2)\n",
    "\n",
    "    matchesMask = [[0,0] for i in range(len(rawMatches))]\n",
    "    imagen1Matcheos = imagenA.imagen.copy()\n",
    "    imagen2Matcheos = imagenB.imagen.copy()\n",
    "    for i, (m1,m2) in enumerate(rawMatches):\n",
    "        if m1.distance < ratio * m2.distance:\n",
    "            matchesMask[i] = [1,0]\n",
    "            pt1 = imagenA.keypoints[m1.queryIdx]\n",
    "            pt2 = imagenB.keypoints[m1.trainIdx]\n",
    "            cv2.circle(imagen1Matcheos, (int(pt1[0]),int(pt1[1])), 10, (255,0,255), -1)\n",
    "            cv2.circle(imagen2Matcheos, (int(pt2[0]),int(pt2[1])), 10, (255,0,255), -1)\n",
    "\n",
    "\n",
    "    ## Draw match in blue, error in red\n",
    "    draw_params = dict(matchColor = (255, 0,0),\n",
    "                       singlePointColor = (0,0,255),\n",
    "                       matchesMask = matchesMask,\n",
    "                       flags = 0)\n",
    "\n",
    "    res = cv2.drawMatchesKnn(imagen1Matcheos,\n",
    "                             imagenA._keypoints,\n",
    "                             imagen2Matcheos,\n",
    "                             imagenB._keypoints,\n",
    "                             rawMatches,\n",
    "                             None,\n",
    "                             **draw_params)\n",
    "    return res"
   ]
  },
  {
   "cell_type": "code",
   "execution_count": null,
   "id": "d6422790",
   "metadata": {},
   "outputs": [],
   "source": [
    "plt.rcParams['figure.figsize'] = [20, 15]\n",
    "plt.imshow(dibujarMatcheos(imagenA, imagenB, crearMascara(imagenA.shape, 0.3), crearMascara(imagenB.shape, 0.3, orden=1)))"
   ]
  },
  {
   "cell_type": "markdown",
   "id": "1a1327d0",
   "metadata": {},
   "source": [
    "Usando SURF y mascaras entonces nos queda un matcheo mucho más prometedor. Faltaría entonces agregar mascaras a nuestro pipeline."
   ]
  },
  {
   "cell_type": "markdown",
   "id": "d0e91893",
   "metadata": {},
   "source": [
    "# Version 3:"
   ]
  },
  {
   "cell_type": "code",
   "execution_count": 15,
   "id": "bb460b2f",
   "metadata": {},
   "outputs": [],
   "source": [
    "def matchearImagenes(imagenA, imagenB, ratio, tolerancia, mascaras=None):\n",
    "    matcher = cv2.DescriptorMatcher_create(\"BruteForce\")\n",
    "    if mascaras is None:\n",
    "        rawMatches = matcher.knnMatch(imagenB.features, imagenA.features, 2)\n",
    "    else:\n",
    "        rawMatches = matcher.knnMatch(imagenB.getFeatures(mascaras[1]), imagenA.getFeatures(mascaras[0]), 2)\n",
    "    matches = []\n",
    "\n",
    "    for m in rawMatches:\n",
    "        #  Lowe's ratio test\n",
    "        if len(m) == 2 and m[0].distance < m[1].distance * ratio:\n",
    "            matches.append((m[0].trainIdx, m[0].queryIdx))\n",
    "\n",
    "    if len(matches) > 4:\n",
    "        ptsA = np.float32([imagenA.keypoints[i] for (i, _) in matches])\n",
    "        ptsB = np.float32([imagenB.keypoints[i] for (_, i) in matches])\n",
    "        (H, inliners) = cv2.findHomography( ptsB, ptsA, cv2.RANSAC, tolerancia)\n",
    "\n",
    "        if H is None:\n",
    "            raise Exception(\"No hubo suficientes coincidencias entre las caracteristicas de las imagenes\")\n",
    "        return (matches, H, inliners)\n",
    "    else:\n",
    "        raise Exception(\"No hubo suficientes coincidencias entre las caracteristicas de las imagenes\")\n",
    "        \n",
    "def stitchPar(imagenA, imagenB, ratio, tolerancia, mascaras=None, limite=None):\n",
    "    (matches, H, inliners) = matchearImagenes(imagenA, imagenB, ratio, tolerancia, mascaras)\n",
    "    \n",
    "    imagenB.transformar(H, limite)  \n",
    "\n",
    "    imagenA.mover(int(np.abs(np.clip(np.min([esquina[0] for esquina in imagenB.esquinas]), None, 0))),\n",
    "                  int(np.abs(np.clip(np.min([esquina[1] for esquina in imagenB.esquinas]), None, 0))))\n",
    "\n",
    "    smallestX = np.min([imagenB.posicion[0], imagenA.posicion[0]])\n",
    "    biggestX = np.max([imagenB.posicion[0] + imagenB.shape[1],\n",
    "                      imagenA.posicion[0] + imagenA.shape[1]])\n",
    "    smallestY = np.min([imagenB.posicion[1], imagenA.posicion[1]])\n",
    "    biggestY = np.max([imagenB.posicion[1] + imagenB.shape[0],\n",
    "                      imagenA.posicion[1] + imagenA.shape[0]])\n",
    "\n",
    "    resultShape = (\n",
    "        int(np.floor(biggestY - smallestY)),\n",
    "        int(np.floor(biggestX - smallestX)),\n",
    "        4\n",
    "    )\n",
    "    result = Imagen(np.zeros(resultShape, np.uint8), imagenA.descriptor )\n",
    "\n",
    "    result.pegar(imagenA)\n",
    "    result.pegar(imagenB)\n",
    "\n",
    "    return result\n",
    "\n",
    "def stitch( imagenes, grilla , orden ):\n",
    "    indice = 0\n",
    "    panorama = None\n",
    "    for fila in range(grilla[0]):\n",
    "        imagenFila = imagenes[orden[indice] - 1]\n",
    "        for col in range(grilla[1] - 1):\n",
    "            proporcionMascaras = np.array([(1/ (col+1)) / 2, 0.5])\n",
    "            \n",
    "            while True:\n",
    "                mascaras = (\n",
    "                            # esto hay que hacerlo mejor, calculando que proporcion de la fila ocupa la \n",
    "                            # ultima imagen pegada\n",
    "                            crearMascara(imagenFila.shape, proporcionMascaras[0] ),\n",
    "                            crearMascara(imagenes[orden[indice + 1] - 1].shape, proporcionMascaras[1], orden=1)\n",
    "                )\n",
    "                try:\n",
    "                    imagenFila = stitchPar( imagenFila, imagenes[orden[indice + 1] - 1], ratio, tolerancia, mascaras, limite=2 )\n",
    "                    break\n",
    "                except Exception as e:\n",
    "                    if proporcionMascaras[0] < 0.001 or proporcionMascaras[1] < 0.01:\n",
    "                        raise Exception(\"No se pudo realizar el pegado\")\n",
    "                    else:\n",
    "                        proporcionMascaras /= 1.3\n",
    "                    \n",
    "                \n",
    "            indice += 1\n",
    "        indice += 1\n",
    "        panorama = imagenFila if panorama is None else stitchPar( panorama, imagenFila, ratio, tolerancia)\n",
    "\n",
    "    return panorama.imagen"
   ]
  },
  {
   "cell_type": "markdown",
   "id": "3c06fcdd",
   "metadata": {},
   "source": [
    "El while basicamente lo agregue como un hack medio trucho. Si la transformación que encuentra sabemos que no anda porque la imagen transformada superaría un tamaño aceptable, volvemos a probar con máscaras cada vez más agresivas hasta cierto limite, donde si todavía la transformación sigue siendo muy mala nos damos por vencidos."
   ]
  },
  {
   "cell_type": "code",
   "execution_count": 16,
   "id": "b162561e",
   "metadata": {},
   "outputs": [
    {
     "data": {
      "text/plain": [
       "<matplotlib.image.AxesImage at 0x7fa2d9e9db20>"
      ]
     },
     "execution_count": 16,
     "metadata": {},
     "output_type": "execute_result"
    },
    {
     "data": {
      "image/png": "[encoded data removed]",
      "text/plain": [
       "<Figure size 720x504 with 1 Axes>"
      ]
     },
     "metadata": {
      "needs_background": "light"
     },
     "output_type": "display_data"
    }
   ],
   "source": [
    "descriptor = cv2.xfeatures2d.SURF_create()\n",
    "grilla = (1,4)\n",
    "orden = [1,2,3,4]\n",
    "\n",
    "ratio = 0.75\n",
    "tolerancia = 4\n",
    "\n",
    "# leemos las imagenes\n",
    "imagenes = [ Imagen( cv2.imread('Imagenes/Intestino curso/01.tif'), descriptor ),\n",
    "             Imagen( cv2.imread('Imagenes/Intestino curso/02.tif'), descriptor ),\n",
    "             Imagen( cv2.imread('Imagenes/Intestino curso/03.tif'), descriptor ),\n",
    "             Imagen( cv2.imread('Imagenes/Intestino curso/04.tif'), descriptor )]\n",
    "\n",
    "resultado = stitch(imagenes, grilla, orden)\n",
    "plt.imshow(resultado)"
   ]
  },
  {
   "cell_type": "markdown",
   "id": "bd055139",
   "metadata": {},
   "source": [
    "Se pegó más o menos bien... me parece que al tener pocos matcheos, y que están muy sobre un borde, la matriz homográfica que encuentra transforma de formas un poco desproporcionadas al resto de la imagen. Tal vez se podría buscar una matriz homográfica que no solo matchee la mayor cantidad de features posibles, sino que tambien mantenga el aspecto cuadrado de la imagen. Ya que sabemos que como fueron tomadas por un microscopio, no van a tener deformaciones por lentes o cosas por el estilo, más comunes en fotografía."
   ]
  }
 ],
 "metadata": {
  "kernelspec": {
   "display_name": "Python 3.9.5 64-bit",
   "language": "python",
   "name": "python395jvsc74a57bd0916dbcbb3f70747c44a77c7bcd40155683ae19c65e1c03b4aa3499c5328201f1"
  },
  "language_info": {
   "codemirror_mode": {
    "name": "ipython",
    "version": 3
   },
   "file_extension": ".py",
   "mimetype": "text/x-python",
   "name": "python",
   "nbconvert_exporter": "python",
   "pygments_lexer": "ipython3",
   "version": "3.9.5"
  }
 },
 "nbformat": 4,
 "nbformat_minor": 5
}
